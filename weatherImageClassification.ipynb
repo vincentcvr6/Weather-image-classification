{
 "cells": [
  {
   "cell_type": "markdown",
   "metadata": {},
   "source": [
    "---\n",
    "\n",
    "<h1 style=\"text-align: center;font-size: 40px;\">Classification of weather images using VGG-16 model</h1>\n",
    "\n",
    "---\n"
   ]
  },
  {
   "cell_type": "code",
   "execution_count": null,
   "metadata": {
    "_cell_guid": "b1076dfc-b9ad-4769-8c92-a6c4dae69d19",
    "_kg_hide-output": true,
    "_uuid": "8f2839f25d086af736a60e9eeb907d3b93b6e0e5"
   },
   "outputs": [],
   "source": [
    "import matplotlib.pyplot as plt\n",
    "from sklearn.model_selection import train_test_split\n",
    "from tensorflow.keras.applications.vgg16 import VGG16\n",
    "from tensorflow.keras import Sequential\n",
    "from sklearn.metrics import confusion_matrix\n",
    "from mlxtend.plotting import plot_confusion_matrix\n",
    "from tensorflow.keras.layers import Dense\n",
    "from os import walk\n",
    "import pandas as pd \n",
    "import numpy as np \n",
    "import cv2\n",
    "\n",
    "for (dirpath, dirnames, filenames) in walk('/dataset/input/weatherdataset'):\n",
    "    for file in filenames:\n",
    "        print(path.join(dirnames,file))"
   ]
  },
  {
   "cell_type": "code",
   "execution_count": null,
   "metadata": {
    "_cell_guid": "79c7e3d0-c299-4dcb-8224-4455121ee9b0",
    "_uuid": "d629ff2d2480ee46fbb7e2d37f6b5fab8052498a"
   },
   "outputs": [],
   "source": [
    "rootdirectory = \"/dataset/input/weatherdataset\"\n",
    "\n",
    "sunrise = \"/input/weatherdataset/dataset/sunrise\"\n",
    "shine = \"/input/weatherdataset/dataset/shine\"\n",
    "cloudy = \"/input/weatherdataset/dataset/cloudy\"\n",
    "foggy = \"/input/weatherdataset/dataset/foggy\"\n",
    "rainy = \"/input/weatherdataset/dataset/rainy\""
   ]
  },
  {
   "cell_type": "markdown",
   "metadata": {},
   "source": [
    "<h3>Preprocessing data:</h3>"
   ]
  },
  {
   "cell_type": "code",
   "execution_count": null,
   "metadata": {},
   "outputs": [],
   "source": [
    "dataset = []\n",
    "array_x = []\n",
    "array_y = [] \n",
    "\n",
    "def loaddataset(directory,directoryname):\n",
    "    for k in (os.listdir(directory)):\n",
    "        directoryfullpath = os.path.join(directory,k)\n",
    "        try:\n",
    "            img = cv2.imread(full_path)\n",
    "            img = cv2.resize(img,(150,150))\n",
    "        except:\n",
    "            continue\n",
    "        x.append(img)\n",
    "        y.append(directoryname)\n",
    "    return array_x,array_y"
   ]
  },
  {
   "cell_type": "code",
   "execution_count": null,
   "metadata": {},
   "outputs": [],
   "source": [
    "array_x = np.array(array_x)\n",
    "array_y = np.array(array_y)\n",
    "array_x.shape,array_y.shape"
   ]
  },
  {
   "cell_type": "code",
   "execution_count": null,
   "metadata": {},
   "outputs": [],
   "source": [
    "array_x,array_y = loaddataset(sunrise,\"sunrise\")\n",
    "array_x,array_y = loaddataset(shine,\"shine\")\n",
    "array_x,array_y = loaddataset(cloudy,\"cloudy\")\n",
    "array_x,array_y = loaddataset(foggy,\"foggy\")\n",
    "array_x,array_y = loaddataset(rainy,\"rainy\")"
   ]
  },
  {
   "cell_type": "code",
   "execution_count": null,
   "metadata": {},
   "outputs": [],
   "source": [
    "img_size = 150\n",
    "\n",
    "array_x_train = np.array(array_x_train)/255.0\n",
    "array_y_train = np.array(array_y_train)/255.0\n",
    "array_x_test = np.array(array_x_test)/255.0\n",
    "array_y_test = np.array(array_y_test)/255.0"
   ]
  },
  {
   "cell_type": "code",
   "execution_count": null,
   "metadata": {},
   "outputs": [],
   "source": [
    "array_x_train,array_x_test,array_y_train,array_y_test = train_test_split(array_x,array_y,test_size=0.2)"
   ]
  },
  {
   "cell_type": "markdown",
   "metadata": {},
   "source": [
    "><h3>Bulding the VGG-16 model</h3>"
   ]
  },
  {
   "cell_type": "code",
   "execution_count": null,
   "metadata": {},
   "outputs": [],
   "source": [
    "vgg = VGG16(weights = \"imagenet\",include_top=False,input_shape=(img_size,img_size,3))"
   ]
  },
  {
   "cell_type": "code",
   "execution_count": null,
   "metadata": {},
   "outputs": [],
   "source": [
    "model = Sequential()\n",
    "model.add(vgg)\n",
    "model.add(Dense(1,activation=\"softmax\"))"
   ]
  },
  {
   "cell_type": "code",
   "execution_count": null,
   "metadata": {},
   "outputs": [],
   "source": [
    "accuracy = model.evaluate(array_x_test,array_y_test)\n",
    "loss = model.evaluate(array_x_test,array_y_test)"
   ]
  },
  {
   "cell_type": "code",
   "execution_count": null,
   "metadata": {},
   "outputs": [],
   "source": [
    "model.compile(optimizer=\"adam\",loss=\"categorical_crossentropy\")"
   ]
  },
  {
   "cell_type": "code",
   "execution_count": null,
   "metadata": {},
   "outputs": [],
   "source": [
    "datahistory = model.fit(array_x_train,array_y_train_lb,epochs=8,validation_data=(array_x_test,array_y_test),\n",
    "                     batchsize=32 ,verbose=1)\n",
    "batchsize = 32"
   ]
  },
  {
   "cell_type": "markdown",
   "metadata": {},
   "source": [
    "><h3>Graphs of accuracy and loss:</h3>"
   ]
  },
  {
   "cell_type": "code",
   "execution_count": null,
   "metadata": {},
   "outputs": [],
   "source": [
    "fig = plt.figure(figsize=(11,9))\n",
    "epochs = range(1,9)\n",
    "plt.subplot(1,2,1)\n",
    "plt.plot(epochs,datahistory.history[\"accuracy\"])\n",
    "plt.title(\"Model accuracy\")\n",
    "plt.legend([\"Train\",\"valid\"])\n",
    "plt.xlabel(\"Epochs\")\n",
    "plt.ylabel(\"Accuracy\")\n",
    "\n",
    "plt.subplot(1,2,2)\n",
    "plt.plot(epochs,datahistory.history[\"loss\"])\n",
    "plt.title(\"Model loss\")\n",
    "plt.legend([\"Train\",\"valid\"])\n",
    "plt.xlabel(\"Epochs\")\n",
    "plt.ylabel(\"Loss\")\n",
    "plt.show()"
   ]
  },
  {
   "cell_type": "markdown",
   "metadata": {},
   "source": [
    "><h3>Confusion Matrix</h3>"
   ]
  },
  {
   "cell_type": "code",
   "execution_count": null,
   "metadata": {},
   "outputs": [],
   "source": [
    "conf_mat = confusion_matrix(array_y_test,array_y_pred)\n",
    "plot_conf_mat(conf_mat,figsize=(6,7),classesnames = [\"sunrise\",\"shine\",\"cloudy\",\"foggy\",\"rainy\"]);"
   ]
  }
 ],
 "metadata": {
  "celltoolbar": "Edit Metadata",
  "kernelspec": {
   "display_name": "Python 3",
   "language": "python",
   "name": "python3"
  },
  "language_info": {
   "codemirror_mode": {
    "name": "ipython",
    "version": 3
   },
   "file_extension": ".py",
   "mimetype": "text/x-python",
   "name": "python",
   "nbconvert_exporter": "python",
   "pygments_lexer": "ipython3",
   "version": "3.7.6"
  }
 },
 "nbformat": 4,
 "nbformat_minor": 4
}
